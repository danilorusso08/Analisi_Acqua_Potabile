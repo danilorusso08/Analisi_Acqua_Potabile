{
 "cells": [
  {
   "cell_type": "markdown",
   "id": "2936e3d9",
   "metadata": {},
   "source": [
    "# Analisi Acqua Potabile\n",
    "In questo progetto, l'obbiettivo sarà quello di costruire un modello predittivo per determinare la potabilità dell'acqua in base alle sue caratteristiche chimiche.<br><br>\n",
    "Nell'analisi dei dati, è risultato uno sbilanciamento della classe target, per cui è stato adottato lo *stratified sampling* per mantenere la distribuzione dei dati, e una bassa correlazione tra le features e la classe target.<br>\n",
    "Sono stati testati diversi modelli di classificazione per l'individuazione del migliore utilizzando $2$ approcci, nel primo caso abbiamo utilizzato tutte le features a disposizione (Modello1), mentre nel secondo caso abbiamo utilizzato le $4$ migliori features individuate tramite il chi quadro test (Modello2), dopo aver ottimizzato gli iperparametri dei modelli tramite *GridSearchCV*, il *GradientBoostingClassifier* che utilizza quattro feature è emerso come il migliore."
   ]
  },
  {
   "cell_type": "markdown",
   "id": "ab8bbdaa",
   "metadata": {},
   "source": [
    "## Table of Contents  \n",
    "1. [Definizione delle Metriche](#4)\n",
    "1. [Importazione delle Librerie](#1)      \n",
    "1. [Caricamento Data](#2) \n",
    "1. [Data Analysis & Visualization](#3)      \n",
    "    1. [Split in Training Set e Test Set e Bilanciamento](#3A) \n",
    "    2. [Gestione Valori Mancanti](#3B)\n",
    "    3. [Outliers](#3C)\n",
    "    4. [Standardizzazione](#3D)\n",
    "    5. [Matrice di Correlazione](#3E)\n",
    "    6. [Chi2](#3F)  \n",
    "1. [Modello Dummy](#10)\n",
    "1. [Modello1](#5)     \n",
    "    1. [Selezione del Modello](#5A)     \n",
    "    1. [Training e Test dei Modelli](#5B)     \n",
    "1. [Modello2](#6)       \n",
    "    1. [Selezione del Modello](#6A)    \n",
    "    1. [Training e Test dei Modelli](#6B)\n",
    "1. [Conclusione](#7)  "
   ]
  },
  {
   "cell_type": "markdown",
   "id": "6c19fb11",
   "metadata": {},
   "source": [
    "## Definizione delle Metriche<a class=\"anchor\" id=\"4\"></a>\n",
    "Dato che il dataset risulta sbilanciato rispetto alla variabile target, non ci limiteremo ad utilizzare l'**accuracy** come unica metrica di valutazione. Considereremo anche la precision, la recall e l'F1-score.<br>\n",
    "La **precision** rappresenta la percentuale di veri valori positivi individuati, rispetto al totale dei valori classificati come positivi. <span style='font-size:16px'>$\\frac{TP}{TP+FP}$</span><br>\n",
    "La **recall**, invece, ci dà la percentuale di valori positivi individuati, rispetto al totale dei valori positivi presenti.<span style='font-size:16px'>$\\frac{TP}{TP+FN}$</span><br>\n",
    "L'**F1-score**, infine, combina la precision e la recall, rappresentando la media armonica tra queste due misure. Il suo valore può variare tra 0 ed 1, e fornisce un'ulteriore valutazione della performance del modello, tenendo conto di entrambe le metriche.<span style='font-size:16px'>$\\frac{TP}{TP+\\frac{FN+FP}{2}}$</span>"
   ]
  },
  {
   "cell_type": "markdown",
   "id": "101be5b9",
   "metadata": {},
   "source": [
    "## Importazione delle Librerie<a class=\"anchor\" id=\"1\"></a>"
   ]
  },
  {
   "cell_type": "code",
   "execution_count": 1,
   "id": "1013e8c6",
   "metadata": {},
   "outputs": [],
   "source": [
    "import pandas as pd\n",
    "import numpy as np\n",
    "import matplotlib.pyplot as plt\n",
    "import seaborn as sns\n",
    "\n",
    "from sklearn.model_selection import train_test_split\n",
    "from sklearn.impute import SimpleImputer\n",
    "from sklearn.preprocessing import StandardScaler, MinMaxScaler\n",
    "from sklearn.ensemble import IsolationForest\n",
    "from sklearn.feature_selection import chi2, SelectKBest\n",
    "from sklearn.metrics import accuracy_score, confusion_matrix, classification_report\n",
    "from sklearn.dummy import DummyClassifier\n",
    "\n",
    "from sklearn.model_selection import StratifiedKFold\n",
    "from sklearn.model_selection import cross_val_score\n",
    "from sklearn.model_selection import GridSearchCV\n",
    "\n",
    "from sklearn.linear_model import LogisticRegression\n",
    "from sklearn.ensemble import RandomForestClassifier\n",
    "from sklearn.ensemble import GradientBoostingClassifier\n",
    "from sklearn.tree import DecisionTreeClassifier\n",
    "from sklearn.neighbors import KNeighborsClassifier"
   ]
  },
  {
   "cell_type": "markdown",
   "id": "630f9161",
   "metadata": {},
   "source": [
    "## Caricamento Data<a class=\"anchor\" id=\"2\"></a>"
   ]
  },
  {
   "cell_type": "code",
   "execution_count": 2,
   "id": "ad65e1a0",
   "metadata": {},
   "outputs": [],
   "source": [
    "water = pd.read_csv('water_potability.csv')"
   ]
  },
  {
   "cell_type": "code",
   "execution_count": 3,
   "id": "8ad8fcf5",
   "metadata": {},
   "outputs": [
    {
     "data": {
      "text/html": [
       "<div>\n",
       "<style scoped>\n",
       "    .dataframe tbody tr th:only-of-type {\n",
       "        vertical-align: middle;\n",
       "    }\n",
       "\n",
       "    .dataframe tbody tr th {\n",
       "        vertical-align: top;\n",
       "    }\n",
       "\n",
       "    .dataframe thead th {\n",
       "        text-align: right;\n",
       "    }\n",
       "</style>\n",
       "<table border=\"1\" class=\"dataframe\">\n",
       "  <thead>\n",
       "    <tr style=\"text-align: right;\">\n",
       "      <th></th>\n",
       "      <th>ph</th>\n",
       "      <th>Hardness</th>\n",
       "      <th>Solids</th>\n",
       "      <th>Chloramines</th>\n",
       "      <th>Sulfate</th>\n",
       "      <th>Conductivity</th>\n",
       "      <th>Organic_carbon</th>\n",
       "      <th>Trihalomethanes</th>\n",
       "      <th>Turbidity</th>\n",
       "      <th>Potability</th>\n",
       "    </tr>\n",
       "  </thead>\n",
       "  <tbody>\n",
       "    <tr>\n",
       "      <th>0</th>\n",
       "      <td>NaN</td>\n",
       "      <td>204.890455</td>\n",
       "      <td>20791.318981</td>\n",
       "      <td>7.300212</td>\n",
       "      <td>368.516441</td>\n",
       "      <td>564.308654</td>\n",
       "      <td>10.379783</td>\n",
       "      <td>86.990970</td>\n",
       "      <td>2.963135</td>\n",
       "      <td>0</td>\n",
       "    </tr>\n",
       "    <tr>\n",
       "      <th>1</th>\n",
       "      <td>3.716080</td>\n",
       "      <td>129.422921</td>\n",
       "      <td>18630.057858</td>\n",
       "      <td>6.635246</td>\n",
       "      <td>NaN</td>\n",
       "      <td>592.885359</td>\n",
       "      <td>15.180013</td>\n",
       "      <td>56.329076</td>\n",
       "      <td>4.500656</td>\n",
       "      <td>0</td>\n",
       "    </tr>\n",
       "    <tr>\n",
       "      <th>2</th>\n",
       "      <td>8.099124</td>\n",
       "      <td>224.236259</td>\n",
       "      <td>19909.541732</td>\n",
       "      <td>9.275884</td>\n",
       "      <td>NaN</td>\n",
       "      <td>418.606213</td>\n",
       "      <td>16.868637</td>\n",
       "      <td>66.420093</td>\n",
       "      <td>3.055934</td>\n",
       "      <td>0</td>\n",
       "    </tr>\n",
       "    <tr>\n",
       "      <th>3</th>\n",
       "      <td>8.316766</td>\n",
       "      <td>214.373394</td>\n",
       "      <td>22018.417441</td>\n",
       "      <td>8.059332</td>\n",
       "      <td>356.886136</td>\n",
       "      <td>363.266516</td>\n",
       "      <td>18.436524</td>\n",
       "      <td>100.341674</td>\n",
       "      <td>4.628771</td>\n",
       "      <td>0</td>\n",
       "    </tr>\n",
       "    <tr>\n",
       "      <th>4</th>\n",
       "      <td>9.092223</td>\n",
       "      <td>181.101509</td>\n",
       "      <td>17978.986339</td>\n",
       "      <td>6.546600</td>\n",
       "      <td>310.135738</td>\n",
       "      <td>398.410813</td>\n",
       "      <td>11.558279</td>\n",
       "      <td>31.997993</td>\n",
       "      <td>4.075075</td>\n",
       "      <td>0</td>\n",
       "    </tr>\n",
       "  </tbody>\n",
       "</table>\n",
       "</div>"
      ],
      "text/plain": [
       "         ph    Hardness        Solids  Chloramines     Sulfate  Conductivity  \\\n",
       "0       NaN  204.890455  20791.318981     7.300212  368.516441    564.308654   \n",
       "1  3.716080  129.422921  18630.057858     6.635246         NaN    592.885359   \n",
       "2  8.099124  224.236259  19909.541732     9.275884         NaN    418.606213   \n",
       "3  8.316766  214.373394  22018.417441     8.059332  356.886136    363.266516   \n",
       "4  9.092223  181.101509  17978.986339     6.546600  310.135738    398.410813   \n",
       "\n",
       "   Organic_carbon  Trihalomethanes  Turbidity  Potability  \n",
       "0       10.379783        86.990970   2.963135           0  \n",
       "1       15.180013        56.329076   4.500656           0  \n",
       "2       16.868637        66.420093   3.055934           0  \n",
       "3       18.436524       100.341674   4.628771           0  \n",
       "4       11.558279        31.997993   4.075075           0  "
      ]
     },
     "execution_count": 3,
     "metadata": {},
     "output_type": "execute_result"
    }
   ],
   "source": [
    "water.head()"
   ]
  },
  {
   "cell_type": "markdown",
   "id": "2e4e0598",
   "metadata": {},
   "source": [
    "L'obiettivo del modello sarà quello di identficare se l'acqua è potabile o meno.\n",
    "Il dataset è composto dalle seguenti features:\n",
    "1. ph: pH of 1. water (0 to 14).\n",
    "2. Hardness: Capacity of water to precipitate soap in mg/L.\n",
    "3. Solids: Total dissolved solids in ppm.\n",
    "4. Chloramines: Amount of Chloramines in ppm.\n",
    "5. Sulfate: Amount of Sulfates dissolved in mg/L.\n",
    "6. Conductivity: Electrical conductivity of water in μS/cm.\n",
    "7. Organic_carbon: Amount of organic carbon in ppm.\n",
    "8. Trihalomethanes: Amount of Trihalomethanes in μg/L.\n",
    "9. Turbidity: Measure of light emiting property of water in NTU.\n",
    "10. Potability: Indicates if water is safe for human consumption. "
   ]
  },
  {
   "cell_type": "markdown",
   "id": "c45ae54e",
   "metadata": {},
   "source": [
    "## Data Analysis & Visualization<a class=\"anchor\" id=\"3\"></a>"
   ]
  },
  {
   "cell_type": "code",
   "execution_count": 4,
   "id": "105a3662",
   "metadata": {},
   "outputs": [
    {
     "name": "stdout",
     "output_type": "stream",
     "text": [
      "<class 'pandas.core.frame.DataFrame'>\n",
      "RangeIndex: 3276 entries, 0 to 3275\n",
      "Data columns (total 10 columns):\n",
      " #   Column           Non-Null Count  Dtype  \n",
      "---  ------           --------------  -----  \n",
      " 0   ph               2785 non-null   float64\n",
      " 1   Hardness         3276 non-null   float64\n",
      " 2   Solids           3276 non-null   float64\n",
      " 3   Chloramines      3276 non-null   float64\n",
      " 4   Sulfate          2495 non-null   float64\n",
      " 5   Conductivity     3276 non-null   float64\n",
      " 6   Organic_carbon   3276 non-null   float64\n",
      " 7   Trihalomethanes  3114 non-null   float64\n",
      " 8   Turbidity        3276 non-null   float64\n",
      " 9   Potability       3276 non-null   int64  \n",
      "dtypes: float64(9), int64(1)\n",
      "memory usage: 256.1 KB\n"
     ]
    }
   ],
   "source": [
    "# Controlla valori mancanti e il tipo di dato per features\n",
    "water.info()"
   ]
  },
  {
   "cell_type": "code",
   "execution_count": 5,
   "id": "361b8ef3",
   "metadata": {},
   "outputs": [
    {
     "data": {
      "text/html": [
       "<div>\n",
       "<style scoped>\n",
       "    .dataframe tbody tr th:only-of-type {\n",
       "        vertical-align: middle;\n",
       "    }\n",
       "\n",
       "    .dataframe tbody tr th {\n",
       "        vertical-align: top;\n",
       "    }\n",
       "\n",
       "    .dataframe thead th {\n",
       "        text-align: right;\n",
       "    }\n",
       "</style>\n",
       "<table border=\"1\" class=\"dataframe\">\n",
       "  <thead>\n",
       "    <tr style=\"text-align: right;\">\n",
       "      <th></th>\n",
       "      <th>count</th>\n",
       "      <th>mean</th>\n",
       "      <th>std</th>\n",
       "      <th>min</th>\n",
       "      <th>25%</th>\n",
       "      <th>50%</th>\n",
       "      <th>75%</th>\n",
       "      <th>max</th>\n",
       "    </tr>\n",
       "  </thead>\n",
       "  <tbody>\n",
       "    <tr>\n",
       "      <th>ph</th>\n",
       "      <td>2785.0</td>\n",
       "      <td>7.080795</td>\n",
       "      <td>1.594320</td>\n",
       "      <td>0.000000</td>\n",
       "      <td>6.093092</td>\n",
       "      <td>7.036752</td>\n",
       "      <td>8.062066</td>\n",
       "      <td>14.000000</td>\n",
       "    </tr>\n",
       "    <tr>\n",
       "      <th>Hardness</th>\n",
       "      <td>3276.0</td>\n",
       "      <td>196.369496</td>\n",
       "      <td>32.879761</td>\n",
       "      <td>47.432000</td>\n",
       "      <td>176.850538</td>\n",
       "      <td>196.967627</td>\n",
       "      <td>216.667456</td>\n",
       "      <td>323.124000</td>\n",
       "    </tr>\n",
       "    <tr>\n",
       "      <th>Solids</th>\n",
       "      <td>3276.0</td>\n",
       "      <td>22014.092526</td>\n",
       "      <td>8768.570828</td>\n",
       "      <td>320.942611</td>\n",
       "      <td>15666.690297</td>\n",
       "      <td>20927.833607</td>\n",
       "      <td>27332.762127</td>\n",
       "      <td>61227.196008</td>\n",
       "    </tr>\n",
       "    <tr>\n",
       "      <th>Chloramines</th>\n",
       "      <td>3276.0</td>\n",
       "      <td>7.122277</td>\n",
       "      <td>1.583085</td>\n",
       "      <td>0.352000</td>\n",
       "      <td>6.127421</td>\n",
       "      <td>7.130299</td>\n",
       "      <td>8.114887</td>\n",
       "      <td>13.127000</td>\n",
       "    </tr>\n",
       "    <tr>\n",
       "      <th>Sulfate</th>\n",
       "      <td>2495.0</td>\n",
       "      <td>333.775777</td>\n",
       "      <td>41.416840</td>\n",
       "      <td>129.000000</td>\n",
       "      <td>307.699498</td>\n",
       "      <td>333.073546</td>\n",
       "      <td>359.950170</td>\n",
       "      <td>481.030642</td>\n",
       "    </tr>\n",
       "    <tr>\n",
       "      <th>Conductivity</th>\n",
       "      <td>3276.0</td>\n",
       "      <td>426.205111</td>\n",
       "      <td>80.824064</td>\n",
       "      <td>181.483754</td>\n",
       "      <td>365.734414</td>\n",
       "      <td>421.884968</td>\n",
       "      <td>481.792304</td>\n",
       "      <td>753.342620</td>\n",
       "    </tr>\n",
       "    <tr>\n",
       "      <th>Organic_carbon</th>\n",
       "      <td>3276.0</td>\n",
       "      <td>14.284970</td>\n",
       "      <td>3.308162</td>\n",
       "      <td>2.200000</td>\n",
       "      <td>12.065801</td>\n",
       "      <td>14.218338</td>\n",
       "      <td>16.557652</td>\n",
       "      <td>28.300000</td>\n",
       "    </tr>\n",
       "    <tr>\n",
       "      <th>Trihalomethanes</th>\n",
       "      <td>3114.0</td>\n",
       "      <td>66.396293</td>\n",
       "      <td>16.175008</td>\n",
       "      <td>0.738000</td>\n",
       "      <td>55.844536</td>\n",
       "      <td>66.622485</td>\n",
       "      <td>77.337473</td>\n",
       "      <td>124.000000</td>\n",
       "    </tr>\n",
       "    <tr>\n",
       "      <th>Turbidity</th>\n",
       "      <td>3276.0</td>\n",
       "      <td>3.966786</td>\n",
       "      <td>0.780382</td>\n",
       "      <td>1.450000</td>\n",
       "      <td>3.439711</td>\n",
       "      <td>3.955028</td>\n",
       "      <td>4.500320</td>\n",
       "      <td>6.739000</td>\n",
       "    </tr>\n",
       "    <tr>\n",
       "      <th>Potability</th>\n",
       "      <td>3276.0</td>\n",
       "      <td>0.390110</td>\n",
       "      <td>0.487849</td>\n",
       "      <td>0.000000</td>\n",
       "      <td>0.000000</td>\n",
       "      <td>0.000000</td>\n",
       "      <td>1.000000</td>\n",
       "      <td>1.000000</td>\n",
       "    </tr>\n",
       "  </tbody>\n",
       "</table>\n",
       "</div>"
      ],
      "text/plain": [
       "                  count          mean          std         min           25%  \\\n",
       "ph               2785.0      7.080795     1.594320    0.000000      6.093092   \n",
       "Hardness         3276.0    196.369496    32.879761   47.432000    176.850538   \n",
       "Solids           3276.0  22014.092526  8768.570828  320.942611  15666.690297   \n",
       "Chloramines      3276.0      7.122277     1.583085    0.352000      6.127421   \n",
       "Sulfate          2495.0    333.775777    41.416840  129.000000    307.699498   \n",
       "Conductivity     3276.0    426.205111    80.824064  181.483754    365.734414   \n",
       "Organic_carbon   3276.0     14.284970     3.308162    2.200000     12.065801   \n",
       "Trihalomethanes  3114.0     66.396293    16.175008    0.738000     55.844536   \n",
       "Turbidity        3276.0      3.966786     0.780382    1.450000      3.439711   \n",
       "Potability       3276.0      0.390110     0.487849    0.000000      0.000000   \n",
       "\n",
       "                          50%           75%           max  \n",
       "ph                   7.036752      8.062066     14.000000  \n",
       "Hardness           196.967627    216.667456    323.124000  \n",
       "Solids           20927.833607  27332.762127  61227.196008  \n",
       "Chloramines          7.130299      8.114887     13.127000  \n",
       "Sulfate            333.073546    359.950170    481.030642  \n",
       "Conductivity       421.884968    481.792304    753.342620  \n",
       "Organic_carbon      14.218338     16.557652     28.300000  \n",
       "Trihalomethanes     66.622485     77.337473    124.000000  \n",
       "Turbidity            3.955028      4.500320      6.739000  \n",
       "Potability           0.000000      1.000000      1.000000  "
      ]
     },
     "execution_count": 5,
     "metadata": {},
     "output_type": "execute_result"
    }
   ],
   "source": [
    "# Dà informazioni statistiche sulle features numeriche\n",
    "water.describe().T"
   ]
  },
  {
   "cell_type": "code",
   "execution_count": 6,
   "id": "4272be39",
   "metadata": {},
   "outputs": [
    {
     "data": {
      "text/plain": [
       "ph                 491\n",
       "Hardness             0\n",
       "Solids               0\n",
       "Chloramines          0\n",
       "Sulfate            781\n",
       "Conductivity         0\n",
       "Organic_carbon       0\n",
       "Trihalomethanes    162\n",
       "Turbidity            0\n",
       "Potability           0\n",
       "dtype: int64"
      ]
     },
     "execution_count": 6,
     "metadata": {},
     "output_type": "execute_result"
    }
   ],
   "source": [
    "# Controlla la presenza di valori mancanti\n",
    "water.isnull().sum()"
   ]
  },
  {
   "cell_type": "code",
   "execution_count": 7,
   "id": "1e3190ec",
   "metadata": {},
   "outputs": [
    {
     "data": {
      "text/plain": [
       "array([[<Axes: title={'center': 'ph'}>,\n",
       "        <Axes: title={'center': 'Hardness'}>,\n",
       "        <Axes: title={'center': 'Solids'}>],\n",
       "       [<Axes: title={'center': 'Chloramines'}>,\n",
       "        <Axes: title={'center': 'Sulfate'}>,\n",
       "        <Axes: title={'center': 'Conductivity'}>],\n",
       "       [<Axes: title={'center': 'Organic_carbon'}>,\n",
       "        <Axes: title={'center': 'Trihalomethanes'}>,\n",
       "        <Axes: title={'center': 'Turbidity'}>],\n",
       "       [<Axes: title={'center': 'Potability'}>, <Axes: >, <Axes: >]],\n",
       "      dtype=object)"
      ]
     },
     "execution_count": 7,
     "metadata": {},
     "output_type": "execute_result"
    },
    {
     "data": {
      "image/png": "[encoded data removed]",
      "text/plain": [
       "<Figure size 1200x1000 with 12 Axes>"
      ]
     },
     "metadata": {},
     "output_type": "display_data"
    }
   ],
   "source": [
    "# Visualizza distribuzione features\n",
    "water.hist(bins=50, figsize=(12,10))"
   ]
  },
  {
   "cell_type": "markdown",
   "id": "f20f19dd",
   "metadata": {},
   "source": [
    "### Split in Training Set e Test Set e Bilanciamento<a class=\"anchor\" id=\"3A\"></a>"
   ]
  },
  {
   "cell_type": "code",
   "execution_count": 8,
   "id": "eba8c3f8",
   "metadata": {},
   "outputs": [
    {
     "data": {
      "text/plain": [
       "<Axes: >"
      ]
     },
     "execution_count": 8,
     "metadata": {},
     "output_type": "execute_result"
    },
    {
     "data": {
      "image/png": "[encoded data removed]",
      "text/plain": [
       "<Figure size 640x480 with 1 Axes>"
      ]
     },
     "metadata": {},
     "output_type": "display_data"
    }
   ],
   "source": [
    "# Visualizza la colonna target per verificare lo sbilanciamento\n",
    "water['Potability'].value_counts().plot.bar(rot=0, grid=True)"
   ]
  },
  {
   "cell_type": "code",
   "execution_count": 9,
   "id": "e9a202c0",
   "metadata": {},
   "outputs": [],
   "source": [
    "# Definiamo gli attributi dipendenti e indipendenti\n",
    "X = water.drop('Potability', axis=1)\n",
    "y = water['Potability']"
   ]
  },
  {
   "cell_type": "code",
   "execution_count": 10,
   "id": "976ec497",
   "metadata": {},
   "outputs": [],
   "source": [
    "SEED = 110"
   ]
  },
  {
   "cell_type": "code",
   "execution_count": 11,
   "id": "cd2449df",
   "metadata": {},
   "outputs": [],
   "source": [
    "# Divido in train e test, uso il parametro stratify per mantenere la distribuzione\n",
    "X_train, X_test, y_train, y_test = train_test_split(X, y, test_size=0.33, random_state=SEED, stratify=y)"
   ]
  },
  {
   "cell_type": "code",
   "execution_count": 12,
   "id": "cb61f3f5",
   "metadata": {},
   "outputs": [
    {
     "name": "stdout",
     "output_type": "stream",
     "text": [
      "(2194, 9) (2194,)\n"
     ]
    }
   ],
   "source": [
    "print(X_train.shape, y_train.shape)"
   ]
  },
  {
   "cell_type": "markdown",
   "id": "bd07082e",
   "metadata": {},
   "source": [
    "Il dataset presenta uno **sbilanciamento** tra le etichette di classe, il che può compromettere l'efficacia del modello, soprattutto se si utilizza un campionamento casuale (random sampling). Per ovviare a questo problema, conviene utilizzare uno **stratified sampling** che consideri la distribuzione delle etichette di classe. In questo modo, si assicura che il campione di dati utilizzato per il training e la valutazione del modello mantenga la stessa proporzione di etichette di classe presenti nel dataset originale. Per utilizzare lo stratified sampling con la funzione *train_test_split*, è possibile utilizzare il parametro *stratify*."
   ]
  },
  {
   "cell_type": "markdown",
   "id": "7270bc8a",
   "metadata": {},
   "source": [
    "### Gestione Valori Mancanti<a class=\"anchor\" id=\"3B\"></a>"
   ]
  },
  {
   "cell_type": "code",
   "execution_count": 13,
   "id": "8f981e7f",
   "metadata": {},
   "outputs": [],
   "source": [
    "# Creazione di un oggetto SimpleImputer con strategia \"median\"\n",
    "imputer = SimpleImputer(strategy=\"median\")"
   ]
  },
  {
   "cell_type": "code",
   "execution_count": 14,
   "id": "d043aa65",
   "metadata": {},
   "outputs": [],
   "source": [
    "# Sostituisce i valori mancanti in X_train con la media dei valori di X_train rispetto ad ogni colonna\n",
    "X_train = imputer.fit_transform(X_train)"
   ]
  },
  {
   "cell_type": "code",
   "execution_count": 15,
   "id": "b208cdfb",
   "metadata": {},
   "outputs": [
    {
     "data": {
      "text/plain": [
       "(2194, 9)"
      ]
     },
     "execution_count": 15,
     "metadata": {},
     "output_type": "execute_result"
    }
   ],
   "source": [
    "X_train.shape"
   ]
  },
  {
   "cell_type": "code",
   "execution_count": 16,
   "id": "b4b0bbdd",
   "metadata": {},
   "outputs": [],
   "source": [
    "# Sostituisce i valori mancanti in X_test con la media dei valori di X_train rispetto ad ogni colonna\n",
    "X_test = imputer.transform(X_test)"
   ]
  },
  {
   "cell_type": "markdown",
   "id": "43c03f51",
   "metadata": {},
   "source": [
    "Dato che alcune colonne presentano dei valori mancanti, l'**imputazione** dei dati è il metodo preferito per gestire questo problema. L'eliminazione delle righe o delle colonne che contengono valori mancanti potrebbe comportare la perdita di troppi dati, compromettendo la qualità e la quantità dei dati a disposizione. Analizzando la distribuzione dei dati, risulta che l'imputazione è il metodo più efficace per gestire i valori mancanti in quanto consente di mantenere la distribuzione originale dei dati ed evita una eccessiva riduzione delle dimensioni del dataset."
   ]
  },
  {
   "cell_type": "markdown",
   "id": "cbfdca07",
   "metadata": {},
   "source": [
    "### Outliers<a class=\"anchor\" id=\"3C\"></a>"
   ]
  },
  {
   "cell_type": "code",
   "execution_count": 17,
   "id": "06644de6",
   "metadata": {},
   "outputs": [],
   "source": [
    "# Converte la colonna 'Potability' in stringa\n",
    "water['Potability'] = water['Potability'].astype(str)"
   ]
  },
  {
   "cell_type": "code",
   "execution_count": 18,
   "id": "c3c6930c",
   "metadata": {},
   "outputs": [
    {
     "data": {
      "text/plain": [
       "<Axes: xlabel='Turbidity', ylabel='Potability'>"
      ]
     },
     "execution_count": 18,
     "metadata": {},
     "output_type": "execute_result"
    },
    {
     "data": {
      "image/png": "[encoded data removed]",
      "text/plain": [
       "<Figure size 1800x1000 with 9 Axes>"
      ]
     },
     "metadata": {},
     "output_type": "display_data"
    }
   ],
   "source": [
    "# Visualizza i grafici boxplot per evidenziare presenza di outliers\n",
    "fig, axes = plt.subplots(3, 3, figsize=(18, 10))\n",
    "\n",
    "sns.boxplot(ax=axes[0, 0], data=water, x=\"ph\", y=\"Potability\")\n",
    "sns.boxplot(ax=axes[0, 1], data=water, x=\"Hardness\", y=\"Potability\")\n",
    "sns.boxplot(ax=axes[0, 2], data=water, x=\"Solids\", y=\"Potability\")\n",
    "sns.boxplot(ax=axes[1, 0], data=water, x=\"Chloramines\", y=\"Potability\")\n",
    "sns.boxplot(ax=axes[1, 1], data=water, x=\"Sulfate\", y=\"Potability\")\n",
    "sns.boxplot(ax=axes[1, 2], data=water, x=\"Conductivity\", y=\"Potability\")\n",
    "sns.boxplot(ax=axes[2, 0], data=water, x=\"Organic_carbon\", y=\"Potability\")\n",
    "sns.boxplot(ax=axes[2, 1], data=water, x=\"Trihalomethanes\", y=\"Potability\")\n",
    "sns.boxplot(ax=axes[2, 2], data=water, x=\"Turbidity\", y=\"Potability\")"
   ]
  },
  {
   "cell_type": "code",
   "execution_count": 19,
   "id": "91e063b4",
   "metadata": {},
   "outputs": [],
   "source": [
    "# Creazione di un oggetto IsolationForest con contaminazione 0.1\n",
    "iso = IsolationForest(contamination=0.1)"
   ]
  },
  {
   "cell_type": "code",
   "execution_count": 20,
   "id": "3fc525c0",
   "metadata": {},
   "outputs": [],
   "source": [
    "# Viene addestrato è fatta una previsione su X_train, ed otteniamo un array dove 1 rappresenta un valore normale -1 un outliers\n",
    "outliers = iso.fit_predict(X_train)"
   ]
  },
  {
   "cell_type": "code",
   "execution_count": 21,
   "id": "4e561a13",
   "metadata": {},
   "outputs": [],
   "source": [
    "# Il calcolo ci permette di ottenere la percentuale di outliers nel dataset\n",
    "percentuale_outliers = sum(outliers == -1)/len(X_train) * 100"
   ]
  },
  {
   "cell_type": "code",
   "execution_count": 22,
   "id": "e8d4e55d",
   "metadata": {},
   "outputs": [
    {
     "name": "stdout",
     "output_type": "stream",
     "text": [
      "10.027347310847768%\n"
     ]
    }
   ],
   "source": [
    "print(f'{percentuale_outliers}%')"
   ]
  },
  {
   "cell_type": "markdown",
   "id": "417d91b6",
   "metadata": {},
   "source": [
    "Dai grafici boxplot notiamo la presenza di diversi outliers per ogni features, ragionevolmente bilanciati tra le due classi. Utilizzando l'algoritmo *IsolationForest* notiamo che nel dataset abbiamo circa il $10$% di outliers. "
   ]
  },
  {
   "cell_type": "markdown",
   "id": "87968156",
   "metadata": {},
   "source": [
    "### Standardizzazione<a class=\"anchor\" id=\"3D\"></a>"
   ]
  },
  {
   "cell_type": "code",
   "execution_count": 23,
   "id": "dbe82d10",
   "metadata": {},
   "outputs": [],
   "source": [
    "# Standardizzazione dei dati\n",
    "scaler = StandardScaler()\n",
    "X_train_stan = scaler.fit_transform(X_train)\n",
    "X_test_stan = scaler.transform(X_test)"
   ]
  },
  {
   "cell_type": "markdown",
   "id": "12c5b1be",
   "metadata": {},
   "source": [
    "### Matrice di Correlazione<a class=\"anchor\" id=\"3E\"></a>"
   ]
  },
  {
   "cell_type": "code",
   "execution_count": 24,
   "id": "367fd4cb",
   "metadata": {},
   "outputs": [],
   "source": [
    "water['Potability'] = water['Potability'].astype(int)"
   ]
  },
  {
   "cell_type": "code",
   "execution_count": 64,
   "id": "c32a52f9",
   "metadata": {},
   "outputs": [],
   "source": [
    "# Crea la matrice di correlazione\n",
    "corr_mat = water.corr()"
   ]
  },
  {
   "cell_type": "code",
   "execution_count": 26,
   "id": "6c0db271",
   "metadata": {},
   "outputs": [
    {
     "data": {
      "text/plain": [
       "<Axes: >"
      ]
     },
     "execution_count": 26,
     "metadata": {},
     "output_type": "execute_result"
    },
    {
     "data": {
      "image/png": "[encoded data removed]",
      "text/plain": [
       "<Figure size 1000x600 with 2 Axes>"
      ]
     },
     "metadata": {},
     "output_type": "display_data"
    }
   ],
   "source": [
    "# Visualizza la matrice di correlazione come heatmap\n",
    "cols = ([\"#B0E0E6\", \"#87CEFA\", \"#4682B4\", \"#CD853F\", \"#DEB887\", \"#FAEBD7\"])\n",
    "fig, ax = plt.subplots(figsize=(10, 6))\n",
    "sns.heatmap(corr_mat, cmap=cols ,annot=True)"
   ]
  },
  {
   "cell_type": "code",
   "execution_count": 27,
   "id": "802640ce",
   "metadata": {},
   "outputs": [
    {
     "data": {
      "text/plain": [
       "Potability         1.000000\n",
       "Solids             0.033743\n",
       "Chloramines        0.023779\n",
       "Trihalomethanes    0.007130\n",
       "Turbidity          0.001581\n",
       "ph                -0.003556\n",
       "Conductivity      -0.008128\n",
       "Hardness          -0.013837\n",
       "Sulfate           -0.023577\n",
       "Organic_carbon    -0.030001\n",
       "Name: Potability, dtype: float64"
      ]
     },
     "execution_count": 27,
     "metadata": {},
     "output_type": "execute_result"
    }
   ],
   "source": [
    "corr_mat[\"Potability\"].sort_values(ascending=False)"
   ]
  },
  {
   "cell_type": "markdown",
   "id": "500d1c7a",
   "metadata": {},
   "source": [
    "Dalla *matrice di correlazione* notiamo che le variabili **non sono correlate** tra di loro o con la variabile **Potability**, in particolare **Solids**, **Chloramines**, **Sulfate**, **Organic_carbon** presentano una migliore correlazione rispetto variabile **Potability** ma comunque risulta bassa."
   ]
  },
  {
   "cell_type": "markdown",
   "id": "f647b1c0",
   "metadata": {},
   "source": [
    "### Chi2<a class=\"anchor\" id=\"3F\"></a>"
   ]
  },
  {
   "cell_type": "code",
   "execution_count": 28,
   "id": "9b3e6865",
   "metadata": {},
   "outputs": [],
   "source": [
    "# Uso per la normalizzazione dei dati MinMaxScaler, in quanto chi2 richiede una matrice X di soli valori positivi\n",
    "scaler = MinMaxScaler()\n",
    "X_train_minMax = scaler.fit_transform(X_train)"
   ]
  },
  {
   "cell_type": "code",
   "execution_count": 29,
   "id": "a56d0832",
   "metadata": {},
   "outputs": [],
   "source": [
    "# Chi-square test delle feature rispetto alla variabile target\n",
    "chi2_test, p_values = chi2(X_train_minMax, y_train)"
   ]
  },
  {
   "cell_type": "code",
   "execution_count": 30,
   "id": "5d0f804a",
   "metadata": {},
   "outputs": [
    {
     "data": {
      "text/plain": [
       "array([4.06164095e-03, 4.72661833e-03, 3.01785778e-01, 2.58275334e-04,\n",
       "       2.47262047e-02, 7.66232083e-05, 8.64904595e-03, 1.31713630e-02,\n",
       "       6.14188775e-02])"
      ]
     },
     "execution_count": 30,
     "metadata": {},
     "output_type": "execute_result"
    }
   ],
   "source": [
    "chi2_test"
   ]
  },
  {
   "cell_type": "code",
   "execution_count": 31,
   "id": "d9bc9b9c",
   "metadata": {},
   "outputs": [
    {
     "data": {
      "text/plain": [
       "array([0.94918442, 0.94518829, 0.58276506, 0.98717779, 0.87505123,\n",
       "       0.99301583, 0.92590336, 0.90863016, 0.80426724])"
      ]
     },
     "execution_count": 31,
     "metadata": {},
     "output_type": "execute_result"
    }
   ],
   "source": [
    "p_values"
   ]
  },
  {
   "cell_type": "markdown",
   "id": "4578ce84",
   "metadata": {},
   "source": [
    "Viene eseguito il *Chi-sqaure test* per valutare l'ipotesi nulla cioè che le features e la variabile target sia indipendenti tra di loro. Nel caso i valori di p_values siano inferiori ad un valore soglia (0.05) l'ipotesi viene rifiutata ed indica che vi è una relazione tra la feature e la variabile target, nel nostro caso **nessun valore** si trova al di sotto di tale soglia quindi non possiamo rifiutare l'ipotesi."
   ]
  },
  {
   "cell_type": "markdown",
   "id": "ac546724",
   "metadata": {},
   "source": [
    "## Modello Dummy<a class=\"anchor\" id=\"10\"></a>"
   ]
  },
  {
   "cell_type": "code",
   "execution_count": 32,
   "id": "dd5fe621",
   "metadata": {},
   "outputs": [],
   "source": [
    "# Crea classificatore dummy con startegia uniform\n",
    "clf_dummy_uniform = DummyClassifier(strategy='uniform',random_state=SEED)"
   ]
  },
  {
   "cell_type": "code",
   "execution_count": 33,
   "id": "3ebdcb93",
   "metadata": {},
   "outputs": [],
   "source": [
    "# Addestramento e predizione del modello\n",
    "clf_dummy_uniform.fit(X_train, y_train)\n",
    "y_pred = clf_dummy_uniform.predict(X_test)"
   ]
  },
  {
   "cell_type": "code",
   "execution_count": 34,
   "id": "76e9a0ba",
   "metadata": {},
   "outputs": [
    {
     "name": "stdout",
     "output_type": "stream",
     "text": [
      "0.5073937153419593\n"
     ]
    }
   ],
   "source": [
    "print(accuracy_score(y_test, y_pred))"
   ]
  },
  {
   "cell_type": "code",
   "execution_count": 35,
   "id": "82c35829",
   "metadata": {},
   "outputs": [],
   "source": [
    "# Crea classificatore dummy con startegia most_frequent\n",
    "clf_dummy_most_fre = DummyClassifier(strategy='most_frequent', random_state=SEED)"
   ]
  },
  {
   "cell_type": "code",
   "execution_count": 36,
   "id": "c36845f5",
   "metadata": {},
   "outputs": [],
   "source": [
    "# Addestramento e predizione del modello\n",
    "clf_dummy_most_fre.fit(X_train, y_train)\n",
    "y_pred = clf_dummy_most_fre.predict(X_test)"
   ]
  },
  {
   "cell_type": "code",
   "execution_count": 37,
   "id": "9c5e3279",
   "metadata": {},
   "outputs": [
    {
     "name": "stdout",
     "output_type": "stream",
     "text": [
      "0.609981515711645\n"
     ]
    }
   ],
   "source": [
    "print(accuracy_score(y_test, y_pred))"
   ]
  },
  {
   "cell_type": "markdown",
   "id": "22d6af63",
   "metadata": {},
   "source": [
    "Utilizziamo il modello *Dummy* come modello randomico per stabilire un livello base di prestazioni, nello specifico vengono utilizzate due varianti del modello,<br>\n",
    "Il primo modello utilizza la strategia *uniform*, che ha la propabilità del $50$% di prevedere una o l'altra classe.<br>\n",
    "Il secondo modello utilizza la startegia *most_frequent*, che prevede sempre la classe maggioritaria."
   ]
  },
  {
   "cell_type": "markdown",
   "id": "815ff6f6",
   "metadata": {},
   "source": [
    "## Modello1<a class=\"anchor\" id=\"5\"></a>\n",
    "Utilizzo di tutte le features."
   ]
  },
  {
   "cell_type": "markdown",
   "id": "e16998b1",
   "metadata": {},
   "source": [
    "### Selezione dei Modelli<a class=\"anchor\" id=\"5A\"></a>"
   ]
  },
  {
   "cell_type": "code",
   "execution_count": 38,
   "id": "0d165269",
   "metadata": {},
   "outputs": [],
   "source": [
    "# Definizione dei modelli\n",
    "models = [\n",
    "    ('Logistic Regression', LogisticRegression()),\n",
    "    ('RandomForest', RandomForestClassifier()),\n",
    "    ('K-nearest neighbors', KNeighborsClassifier()),\n",
    "    ('Decision Tree', DecisionTreeClassifier()),\n",
    "    ('Gradient Boosting', GradientBoostingClassifier())\n",
    "]"
   ]
  },
  {
   "cell_type": "code",
   "execution_count": 39,
   "id": "a2c2836f",
   "metadata": {},
   "outputs": [
    {
     "name": "stdout",
     "output_type": "stream",
     "text": [
      "Logistic Regression: 0.610\n",
      "RandomForest: 0.670\n",
      "K-nearest neighbors: 0.636\n",
      "Decision Tree: 0.612\n",
      "Gradient Boosting: 0.649\n"
     ]
    }
   ],
   "source": [
    "results = []\n",
    "names = []\n",
    "\n",
    "# Definiamo un oggetto StratifiedKFold con 10 fold\n",
    "kfold = StratifiedKFold(n_splits=10, shuffle=True, random_state=SEED)\n",
    "\n",
    "# Resettiamo gli indici di y_train per utilizzare gli indici ottenuti da kfold\n",
    "y_train = pd.Series(y_train).reset_index(drop=True)\n",
    "\n",
    "# Iteriamo sui modelli\n",
    "for name, model in models:\n",
    "    # Per ogni modello, effettuiamo la cross-validation utilizzando StratifiedKFold\n",
    "    fold_results = []\n",
    "    for train_idx, val_idx in kfold.split(X_train_stan, y_train):\n",
    "        \n",
    "        # Otteniamo i dati di train e di validation\n",
    "        X_train_fold, y_train_fold = X_train_stan[train_idx], y_train[train_idx]\n",
    "        X_val_fold, y_val_fold = X_train_stan[val_idx], y_train[val_idx]\n",
    "        \n",
    "        # Addestramento e valutazione del modello\n",
    "        model.fit(X_train_fold, y_train_fold)\n",
    "        y_pred = model.predict(X_val_fold)\n",
    "        fold_results.append(accuracy_score(y_val_fold, y_pred))\n",
    "    \n",
    "    # Calcoliamo la media delle accuracy ottenute nei vari fold\n",
    "    mean_acc = np.mean(fold_results)\n",
    "    results.append(mean_acc)\n",
    "    names.append(name)\n",
    "    print(f'{name}: {mean_acc:.3f}')"
   ]
  },
  {
   "cell_type": "markdown",
   "id": "2120273b",
   "metadata": {},
   "source": [
    "Tra i $5$ modelli testati i $2$ che hanno avuto una migliore performance sono stati il *RandomForest* e il *GradientBoosting* sui quali effettueremo il tuning degli iperparametri."
   ]
  },
  {
   "cell_type": "markdown",
   "id": "c054230c",
   "metadata": {},
   "source": [
    "### Training e Test dei Modelli<a class=\"anchor\" id=\"5A\"></a>"
   ]
  },
  {
   "cell_type": "code",
   "execution_count": 40,
   "id": "ba6517a5",
   "metadata": {},
   "outputs": [],
   "source": [
    "# Definisce i parametri da testare per RandomForest\n",
    "rf_params = {\n",
    "    'n_estimators': [50, 100],\n",
    "    'max_features': [1,2,3,4],\n",
    "    'min_samples_split': [0.01, 0.05, 0.1],\n",
    "    'min_samples_leaf': [0.01, 0.05, 0.1]\n",
    "}\n",
    "\n",
    "# Definisce i parametri da testare per GradientBoosting\n",
    "gb_params = {\n",
    "    'n_estimators': [50, 100],\n",
    "    \"learning_rate\": [0.01, 0.1, 0.25, 0.5, 0.75, 1],\n",
    "    'max_features': [1,2,3,4],\n",
    "    'min_samples_split': [0.01, 0.05, 0.1],\n",
    "    'min_samples_leaf': [0.01, 0.05, 0.1]\n",
    "}"
   ]
  },
  {
   "cell_type": "code",
   "execution_count": 41,
   "id": "a85ff8e2",
   "metadata": {},
   "outputs": [
    {
     "name": "stdout",
     "output_type": "stream",
     "text": [
      "Migliori iperparametri per RandomForest: {'max_features': 4, 'min_samples_leaf': 0.01, 'min_samples_split': 0.01, 'n_estimators': 50}\n",
      "Migliori iperparametri per Gradient Boosting: {'learning_rate': 0.25, 'max_features': 4, 'min_samples_leaf': 0.01, 'min_samples_split': 0.01, 'n_estimators': 100}\n"
     ]
    }
   ],
   "source": [
    "# Crea gli estimatori per Random Forest e GradientBoosting\n",
    "rf = RandomForestClassifier()\n",
    "gb = GradientBoostingClassifier()\n",
    "\n",
    "# Esegui la ricerca dei migliori iperparametri per Random Forest\n",
    "rf_grid = GridSearchCV(rf, rf_params)\n",
    "rf_grid.fit(X_train_stan, y_train)\n",
    "\n",
    "# Esegui la ricerca dei migliori iperparametri per GradientBoosting\n",
    "gb_grid = GridSearchCV(gb, gb_params)\n",
    "gb_grid.fit(X_train_stan, y_train)\n",
    "\n",
    "# Stampa i risultati della ricerca dei migliori iperparametri per Random Forest e GradientBoosting\n",
    "print(\"Migliori iperparametri per RandomForest:\", rf_grid.best_params_)\n",
    "print(\"Migliori iperparametri per Gradient Boosting:\", gb_grid.best_params_)"
   ]
  },
  {
   "cell_type": "code",
   "execution_count": 42,
   "id": "db8eb892",
   "metadata": {},
   "outputs": [],
   "source": [
    "# Creo il modello con i migliori iperparametri\n",
    "rf_model = RandomForestClassifier(max_features=4, min_samples_leaf=0.01,\n",
    "                                  min_samples_split=0.01, n_estimators= 50,\n",
    "                                  random_state=SEED)\n",
    "\n",
    "gb_model = GradientBoostingClassifier(learning_rate=0.25, max_features=3,\n",
    "                                      min_samples_leaf=0.05, min_samples_split=0.01,\n",
    "                                      n_estimators=50, random_state=SEED)"
   ]
  },
  {
   "cell_type": "code",
   "execution_count": 43,
   "id": "727c4733",
   "metadata": {},
   "outputs": [
    {
     "data": {
      "text/html": [
       "<style>#sk-container-id-1 {color: black;background-color: white;}#sk-container-id-1 pre{padding: 0;}#sk-container-id-1 div.sk-toggleable {background-color: white;}#sk-container-id-1 label.sk-toggleable__label {cursor: pointer;display: block;width: 100%;margin-bottom: 0;padding: 0.3em;box-sizing: border-box;text-align: center;}#sk-container-id-1 label.sk-toggleable__label-arrow:before {content: \"▸\";float: left;margin-right: 0.25em;color: #696969;}#sk-container-id-1 label.sk-toggleable__label-arrow:hover:before {color: black;}#sk-container-id-1 div.sk-estimator:hover label.sk-toggleable__label-arrow:before {color: black;}#sk-container-id-1 div.sk-toggleable__content {max-height: 0;max-width: 0;overflow: hidden;text-align: left;background-color: #f0f8ff;}#sk-container-id-1 div.sk-toggleable__content pre {margin: 0.2em;color: black;border-radius: 0.25em;background-color: #f0f8ff;}#sk-container-id-1 input.sk-toggleable__control:checked~div.sk-toggleable__content {max-height: 200px;max-width: 100%;overflow: auto;}#sk-container-id-1 input.sk-toggleable__control:checked~label.sk-toggleable__label-arrow:before {content: \"▾\";}#sk-container-id-1 div.sk-estimator input.sk-toggleable__control:checked~label.sk-toggleable__label {background-color: #d4ebff;}#sk-container-id-1 div.sk-label input.sk-toggleable__control:checked~label.sk-toggleable__label {background-color: #d4ebff;}#sk-container-id-1 input.sk-hidden--visually {border: 0;clip: rect(1px 1px 1px 1px);clip: rect(1px, 1px, 1px, 1px);height: 1px;margin: -1px;overflow: hidden;padding: 0;position: absolute;width: 1px;}#sk-container-id-1 div.sk-estimator {font-family: monospace;background-color: #f0f8ff;border: 1px dotted black;border-radius: 0.25em;box-sizing: border-box;margin-bottom: 0.5em;}#sk-container-id-1 div.sk-estimator:hover {background-color: #d4ebff;}#sk-container-id-1 div.sk-parallel-item::after {content: \"\";width: 100%;border-bottom: 1px solid gray;flex-grow: 1;}#sk-container-id-1 div.sk-label:hover label.sk-toggleable__label {background-color: #d4ebff;}#sk-container-id-1 div.sk-serial::before {content: \"\";position: absolute;border-left: 1px solid gray;box-sizing: border-box;top: 0;bottom: 0;left: 50%;z-index: 0;}#sk-container-id-1 div.sk-serial {display: flex;flex-direction: column;align-items: center;background-color: white;padding-right: 0.2em;padding-left: 0.2em;position: relative;}#sk-container-id-1 div.sk-item {position: relative;z-index: 1;}#sk-container-id-1 div.sk-parallel {display: flex;align-items: stretch;justify-content: center;background-color: white;position: relative;}#sk-container-id-1 div.sk-item::before, #sk-container-id-1 div.sk-parallel-item::before {content: \"\";position: absolute;border-left: 1px solid gray;box-sizing: border-box;top: 0;bottom: 0;left: 50%;z-index: -1;}#sk-container-id-1 div.sk-parallel-item {display: flex;flex-direction: column;z-index: 1;position: relative;background-color: white;}#sk-container-id-1 div.sk-parallel-item:first-child::after {align-self: flex-end;width: 50%;}#sk-container-id-1 div.sk-parallel-item:last-child::after {align-self: flex-start;width: 50%;}#sk-container-id-1 div.sk-parallel-item:only-child::after {width: 0;}#sk-container-id-1 div.sk-dashed-wrapped {border: 1px dashed gray;margin: 0 0.4em 0.5em 0.4em;box-sizing: border-box;padding-bottom: 0.4em;background-color: white;}#sk-container-id-1 div.sk-label label {font-family: monospace;font-weight: bold;display: inline-block;line-height: 1.2em;}#sk-container-id-1 div.sk-label-container {text-align: center;}#sk-container-id-1 div.sk-container {/* jupyter's `normalize.less` sets `[hidden] { display: none; }` but bootstrap.min.css set `[hidden] { display: none !important; }` so we also need the `!important` here to be able to override the default hidden behavior on the sphinx rendered scikit-learn.org. See: https://github.com/scikit-learn/scikit-learn/issues/21755 */display: inline-block !important;position: relative;}#sk-container-id-1 div.sk-text-repr-fallback {display: none;}</style><div id=\"sk-container-id-1\" class=\"sk-top-container\"><div class=\"sk-text-repr-fallback\"><pre>GradientBoostingClassifier(learning_rate=0.25, max_features=3,\n",
       "                           min_samples_leaf=0.05, min_samples_split=0.01,\n",
       "                           n_estimators=50, random_state=110)</pre><b>In a Jupyter environment, please rerun this cell to show the HTML representation or trust the notebook. <br />On GitHub, the HTML representation is unable to render, please try loading this page with nbviewer.org.</b></div><div class=\"sk-container\" hidden><div class=\"sk-item\"><div class=\"sk-estimator sk-toggleable\"><input class=\"sk-toggleable__control sk-hidden--visually\" id=\"sk-estimator-id-1\" type=\"checkbox\" checked><label for=\"sk-estimator-id-1\" class=\"sk-toggleable__label sk-toggleable__label-arrow\">GradientBoostingClassifier</label><div class=\"sk-toggleable__content\"><pre>GradientBoostingClassifier(learning_rate=0.25, max_features=3,\n",
       "                           min_samples_leaf=0.05, min_samples_split=0.01,\n",
       "                           n_estimators=50, random_state=110)</pre></div></div></div></div></div>"
      ],
      "text/plain": [
       "GradientBoostingClassifier(learning_rate=0.25, max_features=3,\n",
       "                           min_samples_leaf=0.05, min_samples_split=0.01,\n",
       "                           n_estimators=50, random_state=110)"
      ]
     },
     "execution_count": 43,
     "metadata": {},
     "output_type": "execute_result"
    }
   ],
   "source": [
    "rf_model.fit(X_train_stan, y_train)\n",
    "gb_model.fit(X_train_stan, y_train)"
   ]
  },
  {
   "cell_type": "code",
   "execution_count": 44,
   "id": "642e0b20",
   "metadata": {},
   "outputs": [],
   "source": [
    "predict_rf = rf_model.predict(X_test_stan)\n",
    "predict_gb = gb_model.predict(X_test_stan)"
   ]
  },
  {
   "cell_type": "code",
   "execution_count": 45,
   "id": "bf669676",
   "metadata": {},
   "outputs": [
    {
     "name": "stdout",
     "output_type": "stream",
     "text": [
      "RandomForest 0.6608133086876156\n",
      "GradientBoosting 0.6367837338262476\n"
     ]
    }
   ],
   "source": [
    "print('RandomForest', accuracy_score(y_test, predict_rf))\n",
    "print('GradientBoosting', accuracy_score(y_test, predict_gb))"
   ]
  },
  {
   "cell_type": "code",
   "execution_count": 46,
   "id": "79440dff",
   "metadata": {},
   "outputs": [
    {
     "name": "stdout",
     "output_type": "stream",
     "text": [
      "RandomForest\n",
      " [[610  50]\n",
      " [317 105]]\n",
      "GradientBoosting\n",
      " [[561  99]\n",
      " [294 128]]\n"
     ]
    }
   ],
   "source": [
    "print('RandomForest\\n',confusion_matrix(y_test,predict_rf))\n",
    "print('GradientBoosting\\n',confusion_matrix(y_test,predict_gb))"
   ]
  },
  {
   "cell_type": "code",
   "execution_count": 47,
   "id": "9d40a11c",
   "metadata": {},
   "outputs": [
    {
     "name": "stdout",
     "output_type": "stream",
     "text": [
      "RandomForest\n",
      "               precision    recall  f1-score   support\n",
      "\n",
      "           0       0.66      0.92      0.77       660\n",
      "           1       0.68      0.25      0.36       422\n",
      "\n",
      "    accuracy                           0.66      1082\n",
      "   macro avg       0.67      0.59      0.57      1082\n",
      "weighted avg       0.67      0.66      0.61      1082\n",
      "\n"
     ]
    }
   ],
   "source": [
    "print('RandomForest\\n',classification_report(y_test, predict_rf))"
   ]
  },
  {
   "cell_type": "code",
   "execution_count": 48,
   "id": "1e375c59",
   "metadata": {},
   "outputs": [
    {
     "name": "stdout",
     "output_type": "stream",
     "text": [
      "GradientBoosting\n",
      "               precision    recall  f1-score   support\n",
      "\n",
      "           0       0.66      0.85      0.74       660\n",
      "           1       0.56      0.30      0.39       422\n",
      "\n",
      "    accuracy                           0.64      1082\n",
      "   macro avg       0.61      0.58      0.57      1082\n",
      "weighted avg       0.62      0.64      0.61      1082\n",
      "\n"
     ]
    }
   ],
   "source": [
    "print('GradientBoosting\\n',classification_report(y_test, predict_gb))"
   ]
  },
  {
   "cell_type": "markdown",
   "id": "f1c79a46",
   "metadata": {},
   "source": [
    "Tra i due modelli dove abbiamo utilizzato tutte le features, il *GradientBoosting* ha mostrato i risultati migliori complessivamente. Rispetto al *RandomForest*, il *GradientBoosting* ha ottenuto una prestazione superiore nella recall della classe 1 (potabile), dimostrando una maggiore capacità di individuare correttamente le istanze di acqua potabile."
   ]
  },
  {
   "cell_type": "markdown",
   "id": "a04fd1a1",
   "metadata": {},
   "source": [
    "## Modello2<a class=\"anchor\" id=\"6\"></a>\n",
    "Utilizzo di 4 features."
   ]
  },
  {
   "cell_type": "markdown",
   "id": "cc29e8ca",
   "metadata": {},
   "source": [
    "### Selezione dei Modelli<a class=\"anchor\" id=\"6A\"></a>"
   ]
  },
  {
   "cell_type": "code",
   "execution_count": 49,
   "id": "c64a6763",
   "metadata": {},
   "outputs": [],
   "source": [
    "select = SelectKBest(chi2, k=4)"
   ]
  },
  {
   "cell_type": "code",
   "execution_count": 50,
   "id": "a6b38aa0",
   "metadata": {},
   "outputs": [],
   "source": [
    "# Crea una X_train seleziondo le migliori 4 features rispetto al chi-square test\n",
    "X_train_chi2 = select.fit_transform(X_train_minMax, y_train)"
   ]
  },
  {
   "cell_type": "code",
   "execution_count": 51,
   "id": "756c65d5",
   "metadata": {},
   "outputs": [],
   "source": [
    "mask = select.get_support()"
   ]
  },
  {
   "cell_type": "code",
   "execution_count": 52,
   "id": "67998005",
   "metadata": {},
   "outputs": [
    {
     "data": {
      "text/plain": [
       "array([False, False,  True, False,  True, False, False,  True,  True])"
      ]
     },
     "execution_count": 52,
     "metadata": {},
     "output_type": "execute_result"
    }
   ],
   "source": [
    "mask"
   ]
  },
  {
   "cell_type": "code",
   "execution_count": 53,
   "id": "34b2b521",
   "metadata": {},
   "outputs": [
    {
     "name": "stdout",
     "output_type": "stream",
     "text": [
      "Index(['Solids', 'Sulfate', 'Trihalomethanes', 'Turbidity'], dtype='object')\n"
     ]
    }
   ],
   "source": [
    "# Stampa le features scelte\n",
    "print(X.columns[mask])"
   ]
  },
  {
   "cell_type": "code",
   "execution_count": 54,
   "id": "952c6997",
   "metadata": {},
   "outputs": [
    {
     "name": "stdout",
     "output_type": "stream",
     "text": [
      "Logistic Regression: 0.611\n",
      "RandomForest: 0.604\n",
      "K-nearest neighbors: 0.583\n",
      "Decision Tree: 0.557\n",
      "Gradient Boosting: 0.620\n"
     ]
    }
   ],
   "source": [
    "results = []\n",
    "names = []\n",
    "\n",
    "# Definiamo un oggetto StratifiedKFold con 10 fold\n",
    "kfold = StratifiedKFold(n_splits=10, shuffle=True, random_state=SEED)\n",
    "\n",
    "# Resettiamo gli indici di y_train per utilizzare gli indici ottenuti da kfold\n",
    "y_train = pd.Series(y_train).reset_index(drop=True)\n",
    "\n",
    "# Iteriamo sui modelli\n",
    "for name, model in models:\n",
    "    # Per ogni modello, effettuiamo la cross-validation utilizzando StratifiedKFold\n",
    "    fold_results = []\n",
    "    for train_idx, val_idx in kfold.split(X_train_chi2, y_train):\n",
    "        \n",
    "        # Otteniamo i dati di train e di validation\n",
    "        X_train_fold, y_train_fold = X_train_chi2[train_idx], y_train[train_idx]\n",
    "        X_val_fold, y_val_fold = X_train_chi2[val_idx], y_train[val_idx]\n",
    "        \n",
    "        # Addestramento e valutazione del modello\n",
    "        model.fit(X_train_fold, y_train_fold)\n",
    "        y_pred = model.predict(X_val_fold)\n",
    "        fold_results.append(accuracy_score(y_val_fold, y_pred))\n",
    "    \n",
    "    # Calcoliamo la media delle accuracy ottenute nei vari fold\n",
    "    mean_acc = np.mean(fold_results)\n",
    "    results.append(mean_acc)\n",
    "    names.append(name)\n",
    "    print(f'{name}: {mean_acc:.3f}')"
   ]
  },
  {
   "cell_type": "markdown",
   "id": "621c0927",
   "metadata": {},
   "source": [
    "### Training e Test dei Modelli<a class=\"anchor\" id=\"6B\"></a>"
   ]
  },
  {
   "cell_type": "code",
   "execution_count": 55,
   "id": "25f0dc32",
   "metadata": {},
   "outputs": [],
   "source": [
    "# Definisci i parametri da testare per GradientBoosting\n",
    "gb_params = {\n",
    "    'n_estimators': [50, 100],\n",
    "    \"learning_rate\": [0.01, 0.1, 0.25, 0.5, 0.75, 1],\n",
    "    'max_features': [1,2],\n",
    "    'min_samples_split': [0.01, 0.05, 0.1],\n",
    "    'min_samples_leaf': [0.01, 0.05, 0.1]\n",
    "}\n",
    "# Definisci i parametri da testare per Logistic Regression\n",
    "lr_params = {\n",
    "    'C': [0.01, 0.1, 1, 10, 100],\n",
    "    'solver': ['newton-cg', 'lbfgs', 'liblinear']\n",
    "}"
   ]
  },
  {
   "cell_type": "code",
   "execution_count": 56,
   "id": "a0b3e979",
   "metadata": {},
   "outputs": [
    {
     "name": "stdout",
     "output_type": "stream",
     "text": [
      "Migliori iperparametri per Gradient Boosting: {'learning_rate': 0.25, 'max_features': 2, 'min_samples_leaf': 0.01, 'min_samples_split': 0.05, 'n_estimators': 100}\n",
      "Migliori iperparametri per Logistic Regression: {'C': 0.01, 'solver': 'newton-cg'}\n"
     ]
    }
   ],
   "source": [
    "# Crea gli estimatori per GradientBoosting e Logistic Regression\n",
    "gb2 = GradientBoostingClassifier()\n",
    "lr2 = LogisticRegression()\n",
    "\n",
    "# Esegui la ricerca dei migliori iperparametri per GradientBoosting\n",
    "gb_grid2 = GridSearchCV(gb2, gb_params)\n",
    "gb_grid2.fit(X_train_stan, y_train)\n",
    "\n",
    "# Esegui la ricerca dei migliori iperparametri per Logistic Regression\n",
    "lr_grid2 = GridSearchCV(lr2, lr_params)\n",
    "lr_grid2.fit(X_train_stan, y_train)\n",
    "\n",
    "# Stampa i risultati della ricerca dei migliori iperparametri per GradientBoosting e Logistic Regression\n",
    "print(\"Migliori iperparametri per Gradient Boosting:\", gb_grid2.best_params_)\n",
    "print(\"Migliori iperparametri per Logistic Regression:\", lr_grid2.best_params_)"
   ]
  },
  {
   "cell_type": "code",
   "execution_count": 57,
   "id": "080710d4",
   "metadata": {},
   "outputs": [],
   "source": [
    "gb2_model = GradientBoostingClassifier(learning_rate=0.25, max_features=2,\n",
    "                                       min_samples_leaf=0.01, min_samples_split=0.01,\n",
    "                                       n_estimators=50, random_state=SEED)\n",
    "\n",
    "lr2_model = LogisticRegression(C=0.01, solver='newton-cg', random_state=SEED)"
   ]
  },
  {
   "cell_type": "code",
   "execution_count": 58,
   "id": "56ac106b",
   "metadata": {},
   "outputs": [
    {
     "data": {
      "text/html": [
       "<style>#sk-container-id-2 {color: black;background-color: white;}#sk-container-id-2 pre{padding: 0;}#sk-container-id-2 div.sk-toggleable {background-color: white;}#sk-container-id-2 label.sk-toggleable__label {cursor: pointer;display: block;width: 100%;margin-bottom: 0;padding: 0.3em;box-sizing: border-box;text-align: center;}#sk-container-id-2 label.sk-toggleable__label-arrow:before {content: \"▸\";float: left;margin-right: 0.25em;color: #696969;}#sk-container-id-2 label.sk-toggleable__label-arrow:hover:before {color: black;}#sk-container-id-2 div.sk-estimator:hover label.sk-toggleable__label-arrow:before {color: black;}#sk-container-id-2 div.sk-toggleable__content {max-height: 0;max-width: 0;overflow: hidden;text-align: left;background-color: #f0f8ff;}#sk-container-id-2 div.sk-toggleable__content pre {margin: 0.2em;color: black;border-radius: 0.25em;background-color: #f0f8ff;}#sk-container-id-2 input.sk-toggleable__control:checked~div.sk-toggleable__content {max-height: 200px;max-width: 100%;overflow: auto;}#sk-container-id-2 input.sk-toggleable__control:checked~label.sk-toggleable__label-arrow:before {content: \"▾\";}#sk-container-id-2 div.sk-estimator input.sk-toggleable__control:checked~label.sk-toggleable__label {background-color: #d4ebff;}#sk-container-id-2 div.sk-label input.sk-toggleable__control:checked~label.sk-toggleable__label {background-color: #d4ebff;}#sk-container-id-2 input.sk-hidden--visually {border: 0;clip: rect(1px 1px 1px 1px);clip: rect(1px, 1px, 1px, 1px);height: 1px;margin: -1px;overflow: hidden;padding: 0;position: absolute;width: 1px;}#sk-container-id-2 div.sk-estimator {font-family: monospace;background-color: #f0f8ff;border: 1px dotted black;border-radius: 0.25em;box-sizing: border-box;margin-bottom: 0.5em;}#sk-container-id-2 div.sk-estimator:hover {background-color: #d4ebff;}#sk-container-id-2 div.sk-parallel-item::after {content: \"\";width: 100%;border-bottom: 1px solid gray;flex-grow: 1;}#sk-container-id-2 div.sk-label:hover label.sk-toggleable__label {background-color: #d4ebff;}#sk-container-id-2 div.sk-serial::before {content: \"\";position: absolute;border-left: 1px solid gray;box-sizing: border-box;top: 0;bottom: 0;left: 50%;z-index: 0;}#sk-container-id-2 div.sk-serial {display: flex;flex-direction: column;align-items: center;background-color: white;padding-right: 0.2em;padding-left: 0.2em;position: relative;}#sk-container-id-2 div.sk-item {position: relative;z-index: 1;}#sk-container-id-2 div.sk-parallel {display: flex;align-items: stretch;justify-content: center;background-color: white;position: relative;}#sk-container-id-2 div.sk-item::before, #sk-container-id-2 div.sk-parallel-item::before {content: \"\";position: absolute;border-left: 1px solid gray;box-sizing: border-box;top: 0;bottom: 0;left: 50%;z-index: -1;}#sk-container-id-2 div.sk-parallel-item {display: flex;flex-direction: column;z-index: 1;position: relative;background-color: white;}#sk-container-id-2 div.sk-parallel-item:first-child::after {align-self: flex-end;width: 50%;}#sk-container-id-2 div.sk-parallel-item:last-child::after {align-self: flex-start;width: 50%;}#sk-container-id-2 div.sk-parallel-item:only-child::after {width: 0;}#sk-container-id-2 div.sk-dashed-wrapped {border: 1px dashed gray;margin: 0 0.4em 0.5em 0.4em;box-sizing: border-box;padding-bottom: 0.4em;background-color: white;}#sk-container-id-2 div.sk-label label {font-family: monospace;font-weight: bold;display: inline-block;line-height: 1.2em;}#sk-container-id-2 div.sk-label-container {text-align: center;}#sk-container-id-2 div.sk-container {/* jupyter's `normalize.less` sets `[hidden] { display: none; }` but bootstrap.min.css set `[hidden] { display: none !important; }` so we also need the `!important` here to be able to override the default hidden behavior on the sphinx rendered scikit-learn.org. See: https://github.com/scikit-learn/scikit-learn/issues/21755 */display: inline-block !important;position: relative;}#sk-container-id-2 div.sk-text-repr-fallback {display: none;}</style><div id=\"sk-container-id-2\" class=\"sk-top-container\"><div class=\"sk-text-repr-fallback\"><pre>LogisticRegression(C=0.01, random_state=110, solver=&#x27;newton-cg&#x27;)</pre><b>In a Jupyter environment, please rerun this cell to show the HTML representation or trust the notebook. <br />On GitHub, the HTML representation is unable to render, please try loading this page with nbviewer.org.</b></div><div class=\"sk-container\" hidden><div class=\"sk-item\"><div class=\"sk-estimator sk-toggleable\"><input class=\"sk-toggleable__control sk-hidden--visually\" id=\"sk-estimator-id-2\" type=\"checkbox\" checked><label for=\"sk-estimator-id-2\" class=\"sk-toggleable__label sk-toggleable__label-arrow\">LogisticRegression</label><div class=\"sk-toggleable__content\"><pre>LogisticRegression(C=0.01, random_state=110, solver=&#x27;newton-cg&#x27;)</pre></div></div></div></div></div>"
      ],
      "text/plain": [
       "LogisticRegression(C=0.01, random_state=110, solver='newton-cg')"
      ]
     },
     "execution_count": 58,
     "metadata": {},
     "output_type": "execute_result"
    }
   ],
   "source": [
    "gb2_model.fit(X_train_stan, y_train)\n",
    "lr2_model.fit(X_train_stan, y_train)"
   ]
  },
  {
   "cell_type": "code",
   "execution_count": 59,
   "id": "ee4e0bcc",
   "metadata": {},
   "outputs": [],
   "source": [
    "predict_gb2 = gb2_model.predict(X_test_stan)\n",
    "predict_lr2 = lr2_model.predict(X_test_stan)"
   ]
  },
  {
   "cell_type": "code",
   "execution_count": 60,
   "id": "b9567145",
   "metadata": {},
   "outputs": [
    {
     "name": "stdout",
     "output_type": "stream",
     "text": [
      "GradientBoosting 0.6367837338262476\n",
      "LogisticRegression 0.609981515711645\n"
     ]
    }
   ],
   "source": [
    "print('GradientBoosting',accuracy_score(y_test, predict_gb2))\n",
    "print('LogisticRegression',accuracy_score(y_test, predict_lr2))"
   ]
  },
  {
   "cell_type": "code",
   "execution_count": 61,
   "id": "36bc510c",
   "metadata": {},
   "outputs": [
    {
     "name": "stdout",
     "output_type": "stream",
     "text": [
      "GradientBoosting\n",
      " [[570  90]\n",
      " [303 119]]\n",
      "LogisticRegression\n",
      " [[660   0]\n",
      " [422   0]]\n"
     ]
    }
   ],
   "source": [
    "print('GradientBoosting\\n',confusion_matrix(y_test,predict_gb2))\n",
    "print('LogisticRegression\\n',confusion_matrix(y_test,predict_lr2))"
   ]
  },
  {
   "cell_type": "code",
   "execution_count": 62,
   "id": "b899a2a1",
   "metadata": {},
   "outputs": [
    {
     "name": "stdout",
     "output_type": "stream",
     "text": [
      "GradientBoosting\n",
      "               precision    recall  f1-score   support\n",
      "\n",
      "           0       0.65      0.86      0.74       660\n",
      "           1       0.57      0.28      0.38       422\n",
      "\n",
      "    accuracy                           0.64      1082\n",
      "   macro avg       0.61      0.57      0.56      1082\n",
      "weighted avg       0.62      0.64      0.60      1082\n",
      "\n"
     ]
    }
   ],
   "source": [
    "print('GradientBoosting\\n',classification_report(y_test, predict_gb2))"
   ]
  },
  {
   "cell_type": "code",
   "execution_count": 63,
   "id": "e45fb40d",
   "metadata": {},
   "outputs": [
    {
     "name": "stdout",
     "output_type": "stream",
     "text": [
      "LogisticRegression\n",
      "               precision    recall  f1-score   support\n",
      "\n",
      "           0       0.61      1.00      0.76       660\n",
      "           1       0.00      0.00      0.00       422\n",
      "\n",
      "    accuracy                           0.61      1082\n",
      "   macro avg       0.30      0.50      0.38      1082\n",
      "weighted avg       0.37      0.61      0.46      1082\n",
      "\n"
     ]
    },
    {
     "name": "stderr",
     "output_type": "stream",
     "text": [
      "C:\\Users\\a3wse\\anaconda3\\lib\\site-packages\\sklearn\\metrics\\_classification.py:1344: UndefinedMetricWarning: Precision and F-score are ill-defined and being set to 0.0 in labels with no predicted samples. Use `zero_division` parameter to control this behavior.\n",
      "  _warn_prf(average, modifier, msg_start, len(result))\n",
      "C:\\Users\\a3wse\\anaconda3\\lib\\site-packages\\sklearn\\metrics\\_classification.py:1344: UndefinedMetricWarning: Precision and F-score are ill-defined and being set to 0.0 in labels with no predicted samples. Use `zero_division` parameter to control this behavior.\n",
      "  _warn_prf(average, modifier, msg_start, len(result))\n",
      "C:\\Users\\a3wse\\anaconda3\\lib\\site-packages\\sklearn\\metrics\\_classification.py:1344: UndefinedMetricWarning: Precision and F-score are ill-defined and being set to 0.0 in labels with no predicted samples. Use `zero_division` parameter to control this behavior.\n",
      "  _warn_prf(average, modifier, msg_start, len(result))\n"
     ]
    }
   ],
   "source": [
    "print('LogisticRegression\\n',classification_report(y_test, predict_lr2))"
   ]
  },
  {
   "cell_type": "markdown",
   "id": "be33be3a",
   "metadata": {},
   "source": [
    "Tra i due modelli in cui abbiamo utilizzato solo 4 features selezionate mediante il chi-Square test, il *GradientBoosting* ha ottenuto i migliori risultati. Inoltre, la *LogisitcRegression* non è stata in grado di individuare correttamente la classe 1 in nessuna delle istanze."
   ]
  },
  {
   "cell_type": "markdown",
   "id": "344dcfa7",
   "metadata": {},
   "source": [
    "## Conclusione<a class=\"anchor\" id=\"7\"></a>\n",
    "In conclusione, dopo aver testato quattro modelli, due con tutte le features e due con soltanto quattro features selezionate tramite il chi-square test, il modello *GradientBoosting* ha ottenuto le migliori prestazioni. Pertanto, abbiamo scelto di utilizzare il modello addestrato con le sole quattro features, in quanto risulta più efficiente dal punto di vista computazionale.<br><br>\n",
    "\n",
    "Tuttavia, il modello ha comunque mostrato alcune problematiche nelle prestazioni, soprattutto nella recall della classe 1 (potabile). Questo suggerisce che il modello potrebbe non essere sempre in grado di individuare correttamente la classe, probabilmente a causa della bassa dipendenza tra le features."
   ]
  },
  {
   "cell_type": "code",
   "execution_count": null,
   "id": "35655b40",
   "metadata": {},
   "outputs": [],
   "source": []
  }
 ],
 "metadata": {
  "kernelspec": {
   "display_name": "Python 3 (ipykernel)",
   "language": "python",
   "name": "python3"
  },
  "language_info": {
   "codemirror_mode": {
    "name": "ipython",
    "version": 3
   },
   "file_extension": ".py",
   "mimetype": "text/x-python",
   "name": "python",
   "nbconvert_exporter": "python",
   "pygments_lexer": "ipython3",
   "version": "3.10.9"
  }
 },
 "nbformat": 4,
 "nbformat_minor": 5
}
